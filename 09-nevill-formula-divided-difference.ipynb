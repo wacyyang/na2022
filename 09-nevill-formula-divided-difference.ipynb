{
 "cells": [
  {
   "cell_type": "markdown",
   "id": "1c0082d8",
   "metadata": {
    "slideshow": {
     "slide_type": "slide"
    }
   },
   "source": [
    "# <center>Numerical analysis</center>\n",
    "## <center>Neville's formula; Newton's diveded-difference formula</center>\n",
    "\n",
    "### <center>Yong Yang</center>\n",
    "#### <center>yongyang@nuaa.edu.cn</center>"
   ]
  },
  {
   "cell_type": "markdown",
   "id": "623cc245",
   "metadata": {
    "ExecuteTime": {
     "end_time": "2021-08-28T20:29:15.806000+08:00",
     "start_time": "2021-08-28T12:29:15.340Z"
    },
    "slideshow": {
     "slide_type": "slide"
    }
   },
   "source": [
    "## Review\n",
    "\n",
    "* Problem: find the polynomial passing through $(n+1)$ points $(x_i,y_i)$\n",
    "* Lagrange interpolation polynomial \n",
    "\\begin{align}\n",
    "    p(x) = y_0\\frac{(x-x_1)(x-x_2)\\cdots(x-x_n)}{(x_0-x_1)(x_0-x_2)\\cdots(x_0-x_n)}+y_1\\frac{(x-x_0)(x-x_2)\\cdots(x-x_n)}{(x_1-x_0)(x_1-x_2)\\cdots(x_1-x_n)}\\\\\n",
    "    +\\cdots+y_n\\frac{(x-x_0)(x-x_1)\\cdots(x-x_{n-1})}{(x_n-x_0)(x_n-x_1)\\cdots(x_n-x_{n-1})}\n",
    "\\end{align}\n",
    "* Lagrange error formula\n",
    "\\begin{align}\n",
    "f(x) = p(x) + \\frac{f^{(n+1)}(\\xi(x))}{(n+1)！} (x-x_0)\\cdots (x-x_n).\n",
    "\\end{align}\n",
    "* Piecewise linear interpolation\n"
   ]
  },
  {
   "cell_type": "markdown",
   "id": "cf170b33",
   "metadata": {
    "slideshow": {
     "slide_type": "slide"
    }
   },
   "source": [
    "## Compute the value $p(a)$ at $x=a$ without constructing the polynomial $p(x)$\n",
    "\n",
    "* For example, the population at 1965 can be obtained without constructing the Lagrange interpolation polynomial directly. \n",
    "* Neville's method\n",
    "\\begin{theorem}\n",
    "The Lagrange interpolation polynomial is equivalent to \n",
    "    \\begin{align}\n",
    "    p_{0,1,\\cdots,n}(x) =& \\frac{x-x_j}{x_i-x_j}p_{0,1,\\cdots,j-1,j+1,\\cdots,n}(x)+\\frac{x-x_i}{x_j-x_i}p_{0,1,\\cdots,i-1,i+1,\\cdots,n}(x)\\\\\n",
    "    =& \\frac{1}{x_i-x_j}[(x-x_j)p_{0,1,\\cdots,j-1,j+1,\\cdots,n}(x)-(x-x_i)p_{0,1,\\cdots,i-1,i+1,\\cdots,n}(x)]\n",
    "    \\end{align}\n",
    "    for $i\\neq j$.\n",
    "\\end{theorem}\n",
    "* Proof\n",
    "* It is an iterative algorithm"
   ]
  },
  {
   "cell_type": "markdown",
   "id": "03870721",
   "metadata": {
    "slideshow": {
     "slide_type": "subslide"
    }
   },
   "source": [
    "## Example\n",
    "\n",
    "The table lists values of $f$ at various points. Compute $f(1.5)$ by various Lagrange interpolation polynomials.\n",
    "\n",
    "| $x$ \t| $f(x)$    \t|\n",
    "|-----\t|-----------\t|\n",
    "| 1.0 \t| 0.7651977 \t|\n",
    "| 1.3 \t| 0.6200860 \t|\n",
    "| 1.6 \t| 0.4554022 \t|\n",
    "| 1.9 \t| 0.2818186 \t|\n",
    "| 2.2 \t| 0.1103623 \t|"
   ]
  },
  {
   "cell_type": "markdown",
   "id": "adec459a",
   "metadata": {
    "slideshow": {
     "slide_type": "subslide"
    }
   },
   "source": [
    "## Neville's table\n",
    "|       \t|       \t|           \t|             \t|               \t|                 \t|\n",
    "|-------\t|-------\t|-----------\t|-------------\t|---------------\t|-----------------\t|\n",
    "| $x_0$ \t| $p_0$ \t|           \t|             \t|               \t|                 \t|\n",
    "| $x_1$ \t| $p_1$ \t| $p_{0,1}$ \t|             \t|               \t|                 \t|\n",
    "| $x_2$ \t| $p_2$ \t| $p_{1,2}$ \t| $p_{0,1,2}$ \t|               \t|                 \t|\n",
    "| $x_3$ \t| $p_3$ \t| $p_{2,3}$ \t| $p_{1,2,3}$ \t| $p_{0,1,2,3}$ \t|                 \t|\n",
    "| $x_4$ \t| $p_4$ \t| $p_{3,4}$ \t| $p_{2,3,4}$ \t| $p_{1,2,3,4}$ \t| $p_{0,1,2,3,4}$ \t|"
   ]
  },
  {
   "cell_type": "code",
   "execution_count": 1,
   "id": "cfea7e5d",
   "metadata": {
    "ExecuteTime": {
     "end_time": "2022-10-13T16:30:20.194000+08:00",
     "start_time": "2022-10-13T08:30:19.058Z"
    },
    "slideshow": {
     "slide_type": "subslide"
    }
   },
   "outputs": [
    {
     "data": {
      "text/plain": [
       "get_Neville_table (generic function with 1 method)"
      ]
     },
     "execution_count": 1,
     "metadata": {},
     "output_type": "execute_result"
    }
   ],
   "source": [
    "function get_Neville_table(xn,yn,x)\n",
    "    N = length(xn)\n",
    "    nt= zeros((N,N))\n",
    "    nt[:,1] = yn\n",
    "    for j in 2:N\n",
    "        for i in j:N\n",
    "            nt[i,j] = ((x-xn[i-j+1])*nt[i,j-1]-(x-xn[i])*nt[i-1,j-1])/(xn[i]-xn[i-j+1])\n",
    "        end\n",
    "    end\n",
    "    return nt\n",
    "end"
   ]
  },
  {
   "cell_type": "code",
   "execution_count": 12,
   "id": "1be79f55",
   "metadata": {
    "ExecuteTime": {
     "end_time": "2022-10-13T16:38:23.250000+08:00",
     "start_time": "2022-10-13T08:38:23.246Z"
    },
    "slideshow": {
     "slide_type": "subslide"
    }
   },
   "outputs": [
    {
     "data": {
      "text/plain": [
       "5×5 Matrix{Float64}:\n",
       " 0.765198  0.0       0.0       0.0       0.0\n",
       " 0.620086  0.523345  0.0       0.0       0.0\n",
       " 0.455402  0.510297  0.512471  0.0       0.0\n",
       " 0.281819  0.513263  0.511286  0.511813  0.0\n",
       " 0.110362  0.510427  0.513736  0.51183   0.51182"
      ]
     },
     "execution_count": 12,
     "metadata": {},
     "output_type": "execute_result"
    }
   ],
   "source": [
    "xn = [1.0,1.3,1.6,1.9,2.2]\n",
    "yn = [0.7651977,0.6200860,0.4554022,0.2818186,0.1103623]\n",
    "nt = get_Neville_table(xn,yn,1.5)"
   ]
  },
  {
   "cell_type": "code",
   "execution_count": 13,
   "id": "6d9d5f0b",
   "metadata": {
    "ExecuteTime": {
     "end_time": "2022-10-13T16:38:25.823000+08:00",
     "start_time": "2022-10-13T08:38:25.821Z"
    }
   },
   "outputs": [
    {
     "data": {
      "text/plain": [
       "0.5118199942386831"
      ]
     },
     "execution_count": 13,
     "metadata": {},
     "output_type": "execute_result"
    }
   ],
   "source": [
    "nt[end,end]"
   ]
  },
  {
   "cell_type": "code",
   "execution_count": 10,
   "id": "6f49af71",
   "metadata": {
    "ExecuteTime": {
     "end_time": "2022-10-13T16:38:02.611000+08:00",
     "start_time": "2022-10-13T08:38:02.607Z"
    },
    "slideshow": {
     "slide_type": "subslide"
    }
   },
   "outputs": [
    {
     "data": {
      "text/plain": [
       "6×6 Matrix{Float64}:\n",
       "  0.765198   0.0       0.0       0.0       0.0       0.0\n",
       "  0.620086   0.523345  0.0       0.0       0.0       0.0\n",
       "  0.455402   0.510297  0.512471  0.0       0.0       0.0\n",
       "  0.281819   0.513263  0.511286  0.511813  0.0       0.0\n",
       "  0.110362   0.510427  0.513736  0.51183   0.51182   0.0\n",
       " -0.0483838  0.48077   0.530198  0.511907  0.511843  0.511828"
      ]
     },
     "execution_count": 10,
     "metadata": {},
     "output_type": "execute_result"
    }
   ],
   "source": [
    "xn = [1.0,1.3,1.6,1.9,2.2,2.5]\n",
    "yn = [0.7651977,0.6200860,0.4554022,0.2818186,0.1103623,-0.0483838]\n",
    "nt = get_Neville_table(xn,yn,1.5)"
   ]
  },
  {
   "cell_type": "code",
   "execution_count": 11,
   "id": "72f008c3",
   "metadata": {
    "ExecuteTime": {
     "end_time": "2022-10-13T16:38:11.357000+08:00",
     "start_time": "2022-10-13T08:38:11.354Z"
    }
   },
   "outputs": [
    {
     "data": {
      "text/plain": [
       "0.5118276663923181"
      ]
     },
     "execution_count": 11,
     "metadata": {},
     "output_type": "execute_result"
    }
   ],
   "source": []
  },
  {
   "cell_type": "markdown",
   "id": "2e0cd9f1",
   "metadata": {
    "slideshow": {
     "slide_type": "subslide"
    }
   },
   "source": [
    "## Example\n",
    "\n",
    "Use Neville's method and four-digit rounding arithmetic to approximate $f(2.1)=ln(2.1)$ by completing the Neville table."
   ]
  },
  {
   "cell_type": "code",
   "execution_count": 4,
   "id": "33061cc3",
   "metadata": {
    "ExecuteTime": {
     "end_time": "2022-10-13T16:33:17.092000+08:00",
     "start_time": "2022-10-13T08:33:17.088Z"
    },
    "slideshow": {
     "slide_type": "subslide"
    }
   },
   "outputs": [
    {
     "data": {
      "text/plain": [
       "3×3 Matrix{Float64}:\n",
       " 0.6931  0.0     0.0\n",
       " 0.7885  0.7408  0.0\n",
       " 0.8329  0.7441  0.7419"
      ]
     },
     "execution_count": 4,
     "metadata": {},
     "output_type": "execute_result"
    }
   ],
   "source": [
    "xn = [2.0,2.2,2.3]\n",
    "yn = [0.6931,0.7885,0.8329]\n",
    "nt = get_Neville_table(xn,yn,2.1)"
   ]
  },
  {
   "cell_type": "code",
   "execution_count": 5,
   "id": "ebaef80b",
   "metadata": {
    "ExecuteTime": {
     "end_time": "2022-10-13T16:33:31.011000+08:00",
     "start_time": "2022-10-13T08:33:30.737Z"
    },
    "slideshow": {
     "slide_type": "subslide"
    }
   },
   "outputs": [
    {
     "data": {
      "text/plain": [
       "3.734472937744204e-5"
      ]
     },
     "execution_count": 5,
     "metadata": {},
     "output_type": "execute_result"
    }
   ],
   "source": [
    "abs(nt[end,end]-log(2.1))## You cannot expect more accuracy than the arithmetic provides."
   ]
  },
  {
   "cell_type": "markdown",
   "id": "d37d9749",
   "metadata": {
    "slideshow": {
     "slide_type": "slide"
    }
   },
   "source": [
    "## Newton's divided-difference formula\n",
    "\n",
    "* Q: $L_{n,k}$ has to be computed again if another new point is provided.\n",
    "* A: assume the polynomial is in the form of \n",
    "\\begin{align}\n",
    "    p(x)=a_0+a_1(x-x_0)+a_2(x-x_0)(x-x_1)+\\cdots+a_n(x-x_0)\\cdots(x-x_n)\n",
    "\\end{align}"
   ]
  },
  {
   "cell_type": "markdown",
   "id": "e0e800ac",
   "metadata": {
    "slideshow": {
     "slide_type": "subslide"
    }
   },
   "source": [
    "## Divided difference\n",
    "\n",
    "1. $a_0=f(x_0)=:f[x_0]$\n",
    "2. $a_1=\\frac{f(x_1)-f(x_0)}{x_1-x_0}=:f[x_0,x_1]$\n",
    "    * $f[x_0,x_1]=f[x_1,x_0]$\n",
    "3. $a_2=\\frac{f(x_2)-a_0-a_1(x_2-x_0)}{(x_2-x_0)(x_2-x_1)}=\\frac{f[x_0,x_2]-f[x_0,x_1]}{x_2-x_1}=:f[x_0,x_1,x_2]$\n",
    "    * $f[x_0,x_1,x_2]=f[x_1,x_0,x_2]=\\cdots$\n",
    "    * Because the coefficient of $x^2$ must be equal for the unique quadratic polynomial passing through $(x_0,y_0), (x_1,y_1), (x_2,y_2)$.\n",
    "    * Or proof by induction\n"
   ]
  },
  {
   "cell_type": "markdown",
   "id": "0fe37d73",
   "metadata": {
    "slideshow": {
     "slide_type": "subslide"
    }
   },
   "source": [
    "    \n",
    "<img src=\"images/newton-divided-difference.png\"  height=\"100\"/>\n"
   ]
  },
  {
   "cell_type": "markdown",
   "id": "8f524b98",
   "metadata": {
    "slideshow": {
     "slide_type": "subslide"
    }
   },
   "source": [
    "## Newton's divided-difference formula\n",
    "\n",
    "\\begin{align}\n",
    "    p(x) = f[x_0]+f[x_0,x_1](x-x_0)+\\cdots+f[x_0,x_1,\\cdots,x_n](x-x_0)\\cdots(x-x_{n-1})\n",
    "\\end{align}"
   ]
  },
  {
   "cell_type": "code",
   "execution_count": 6,
   "id": "538a9c1e",
   "metadata": {
    "ExecuteTime": {
     "end_time": "2022-10-13T16:35:51.453000+08:00",
     "start_time": "2022-10-13T08:35:51.329Z"
    },
    "slideshow": {
     "slide_type": "subslide"
    }
   },
   "outputs": [
    {
     "data": {
      "text/plain": [
       "get_divided_difference (generic function with 1 method)"
      ]
     },
     "execution_count": 6,
     "metadata": {},
     "output_type": "execute_result"
    }
   ],
   "source": [
    "function get_divided_difference(xn,yn)\n",
    "    N = length(xn)\n",
    "    fd= zeros(Float64,(N,N)) ## Use float32 to see the effect of round-off error\n",
    "    fd[:,1] = yn\n",
    "    for j in 2:N\n",
    "        for i in j:N\n",
    "            fd[i,j] = (fd[i,j-1]-fd[i-1,j-1])/(xn[i]-xn[i-j+1])\n",
    "        end\n",
    "    end\n",
    "    return fd\n",
    "end"
   ]
  },
  {
   "cell_type": "code",
   "execution_count": 7,
   "id": "aa5751ab",
   "metadata": {
    "ExecuteTime": {
     "end_time": "2022-10-13T16:37:33.134000+08:00",
     "start_time": "2022-10-13T08:37:32.963Z"
    },
    "slideshow": {
     "slide_type": "subslide"
    }
   },
   "outputs": [
    {
     "data": {
      "text/plain": [
       "get_Newton_divided_difference_at_x (generic function with 1 method)"
      ]
     },
     "execution_count": 7,
     "metadata": {},
     "output_type": "execute_result"
    }
   ],
   "source": [
    "function get_Newton_divided_difference_at_x(fd,xn,yn,x)\n",
    "    y = fd[1,1]\n",
    "    r = 1\n",
    "    for i in 2:length(xn)\n",
    "        r *= (x-xn[i-1])\n",
    "        y += fd[i,i]*r\n",
    "    end\n",
    "    return y\n",
    "end"
   ]
  },
  {
   "cell_type": "code",
   "execution_count": 8,
   "id": "ac5779b1",
   "metadata": {
    "ExecuteTime": {
     "end_time": "2022-10-13T16:37:38.966000+08:00",
     "start_time": "2022-10-13T08:37:38.922Z"
    },
    "scrolled": true,
    "slideshow": {
     "slide_type": "subslide"
    }
   },
   "outputs": [
    {
     "data": {
      "text/plain": [
       "5×5 Matrix{Float64}:\n",
       " 0.765198   0.0        0.0        0.0        0.0\n",
       " 0.620086  -0.483706   0.0        0.0        0.0\n",
       " 0.455402  -0.548946  -0.108734   0.0        0.0\n",
       " 0.281819  -0.578612  -0.0494433  0.0658784  0.0\n",
       " 0.110362  -0.571521   0.0118183  0.0680685  0.0018251"
      ]
     },
     "execution_count": 8,
     "metadata": {},
     "output_type": "execute_result"
    }
   ],
   "source": [
    "xn = [1.0,1.3,1.6,1.9,2.2]\n",
    "yn = [0.7651977,0.6200860,0.4554022,0.2818186,0.1103623]\n",
    "newton_table = get_divided_difference(xn,yn)"
   ]
  },
  {
   "cell_type": "code",
   "execution_count": 9,
   "id": "86bca3f7",
   "metadata": {
    "ExecuteTime": {
     "end_time": "2022-10-13T16:37:47.366000+08:00",
     "start_time": "2022-10-13T08:37:47.345Z"
    },
    "slideshow": {
     "slide_type": "subslide"
    }
   },
   "outputs": [
    {
     "data": {
      "text/plain": [
       "0.5118199942386833"
      ]
     },
     "execution_count": 9,
     "metadata": {},
     "output_type": "execute_result"
    }
   ],
   "source": [
    "get_Newton_divided_difference_at_x(newton_table,xn,yn,1.5)"
   ]
  },
  {
   "cell_type": "code",
   "execution_count": 14,
   "id": "3fa42ad0",
   "metadata": {
    "ExecuteTime": {
     "end_time": "2022-10-13T16:40:04.994000+08:00",
     "start_time": "2022-10-13T08:40:04.875Z"
    },
    "slideshow": {
     "slide_type": "subslide"
    }
   },
   "outputs": [
    {
     "data": {
      "text/plain": [
       "0.5118199942386831"
      ]
     },
     "execution_count": 14,
     "metadata": {},
     "output_type": "execute_result"
    }
   ],
   "source": [
    "xn2 = [xn[i] for i in [3,2,4,1,5]]## independent of the order due to the uniqueness\n",
    "yn2 = [yn[i] for i in [3,2,4,1,5]]\n",
    "newton_table = get_divided_difference(xn2,yn2)\n",
    "get_Newton_divided_difference_at_x(newton_table,xn2,yn2,1.5)"
   ]
  },
  {
   "cell_type": "code",
   "execution_count": 15,
   "id": "1204183f",
   "metadata": {
    "ExecuteTime": {
     "end_time": "2022-10-13T16:40:56.766000+08:00",
     "start_time": "2022-10-13T08:40:56.669Z"
    },
    "slideshow": {
     "slide_type": "subslide"
    }
   },
   "outputs": [
    {
     "data": {
      "text/plain": [
       "0.5118199942386832"
      ]
     },
     "execution_count": 15,
     "metadata": {},
     "output_type": "execute_result"
    }
   ],
   "source": [
    "xn2 = [xn[i] for i in [5,4,3,2,1]]## Backward-difference\n",
    "yn2 = [yn[i] for i in [5,4,3,2,1]]\n",
    "newton_table = get_divided_difference(xn2,yn2)\n",
    "get_Newton_divided_difference_at_x(newton_table,xn2,yn2,1.5)"
   ]
  },
  {
   "cell_type": "code",
   "execution_count": 16,
   "id": "edd99473",
   "metadata": {
    "ExecuteTime": {
     "end_time": "2022-10-13T16:41:58.836000+08:00",
     "start_time": "2022-10-13T08:41:58.737Z"
    },
    "slideshow": {
     "slide_type": "subslide"
    }
   },
   "outputs": [
    {
     "data": {
      "text/plain": [
       "0.5118199942386833"
      ]
     },
     "execution_count": 16,
     "metadata": {},
     "output_type": "execute_result"
    }
   ],
   "source": [
    "xn2 = [xn[i] for i in [1,2,3,4,5]]## Forward-difference\n",
    "yn2 = [yn[i] for i in [1,2,3,4,5]]\n",
    "newton_table = get_divided_difference(xn2,yn2)\n",
    "get_Newton_divided_difference_at_x(newton_table,xn2,yn2,1.5)"
   ]
  },
  {
   "cell_type": "code",
   "execution_count": 17,
   "id": "b1cf4445",
   "metadata": {
    "ExecuteTime": {
     "end_time": "2022-10-13T16:42:15.605000+08:00",
     "start_time": "2022-10-13T08:42:15.506Z"
    },
    "slideshow": {
     "slide_type": "subslide"
    }
   },
   "outputs": [
    {
     "data": {
      "text/plain": [
       "0.5118199942386831"
      ]
     },
     "execution_count": 17,
     "metadata": {},
     "output_type": "execute_result"
    }
   ],
   "source": [
    "xn2 = [xn[i] for i in [3,2,4,1,5]]## Stirling's\n",
    "yn2 = [yn[i] for i in [3,2,4,1,5]]\n",
    "newton_table = get_divided_difference(xn2,yn2)\n",
    "get_Newton_divided_difference_at_x(newton_table,xn2,yn2,1.5)"
   ]
  },
  {
   "cell_type": "markdown",
   "id": "e5582350",
   "metadata": {
    "slideshow": {
     "slide_type": "subslide"
    }
   },
   "source": [
    "Assume the nodes are arranged consecutively with equal spacing $h$. Assume $x=x_0+sh$.\n",
    "\\begin{align}\n",
    "p(x) =& f[x_0]+a_1(x-x_0)+\\cdots a_n(x-x_0)\\cdots(x-x_{n-1})\\\\\n",
    "=& f[x_0] + f[x_0,x_1]sh + \\cdots f[x_0,\\cdots,x_n]sh(s-1)h\\cdots(s-(n-1))h\\\\\n",
    "=& f[x_0] + \\sum_{k=1}^n {s\\choose k} k!h^k f[x_0,\\cdots,x_{k}]\n",
    "\\end{align}"
   ]
  },
  {
   "cell_type": "markdown",
   "id": "0779f085",
   "metadata": {
    "slideshow": {
     "slide_type": "subslide"
    }
   },
   "source": [
    "## divided-difference $\\approx$ derivative\n",
    "\\begin{theorem}\n",
    "If\n",
    "\n",
    "1. $x_i$ are distinct\n",
    "2. $f\\in C^{(n+1)}[a,b]$,\n",
    "\n",
    "then there exists $\\xi\\in (a,b)$ such that \n",
    "\\begin{align}\n",
    "    f[x_0,x_1,\\cdots,x_n] = \\frac{f^{(n)}(\\xi)}{n!}\n",
    "\\end{align}\n",
    "\\end{theorem}\n",
    "\n",
    "+ Proof: Apply Roll's theorem to\n",
    "\\begin{align}\n",
    "F(t):=f(t)-([x_0]+\\cdots+[x_0,x_1,\\cdots,x_n](t-x_0)\\cdots(t-x_n))\n",
    "\\end{align}"
   ]
  },
  {
   "cell_type": "markdown",
   "id": "d8fc3453",
   "metadata": {
    "slideshow": {
     "slide_type": "subslide"
    }
   },
   "source": [
    "## Newton forward-difference formula\n",
    "\n",
    "Assume the nodes are arranged consecutively with equal spacing $h$.\n",
    "\\begin{align}\n",
    "    f[x_0,x_1] = \\frac{f(x_1)-f(x_0)}{x_1-x_0} = \\frac{1}{h}(f(x_1)-f(x_0))=\\frac{1}{h}\\Delta f(x_0)\\\\\n",
    "    f[x_0,x_1,x_2] = \\frac{f[x_1,x_2]-f[x_0,x_1]}{x_2-x_0} = \\frac{1}{2h}\\frac{\\Delta f(x_1)-\\Delta f(x_0)}{h}=\\frac{1}{2h^2}\\Delta^2 f(x_0)\\\\\n",
    "    \\cdots\\\\\n",
    "    f[x_0,x_1,\\cdots,x_n] = \\frac{1}{n!h^n}\\Delta^n f(x_0)\n",
    "\\end{align}\n",
    "\n",
    "Assume $x = x_0 + sh$.\n",
    "\\begin{align}\n",
    "p(x) =& f[x_0]+a_1(x-x_0)+\\cdots a_n(x-x_0)\\cdots(x-x_{n-1})\\\\\n",
    "=& f(x_0) + \\frac{1}{h}\\Delta f(x_0) sh + \\frac{1}{2h^2}\\Delta^2 f(x_0) sh (s-1)h+\\cdots + \\frac{1}{n!h^n}\\Delta^n f(x_0) sh(s-1)h\\cdots(s-(n-1))h\\\\\n",
    "=& f(x_0) + \\sum_{k=1}^n {s\\choose k} \\Delta^k f(x_0).\n",
    "\\end{align}\n",
    "\n",
    "* When $x$ is near $x_0$, use the forward-difference formula."
   ]
  },
  {
   "cell_type": "markdown",
   "id": "a465d809",
   "metadata": {
    "slideshow": {
     "slide_type": "subslide"
    }
   },
   "source": [
    "## Newton backward-difference formula\n",
    "\n",
    "Assume the nodes are arranged consecutively with equal spacing $h$.\n",
    "\\begin{align}\n",
    "    f[x_0,x_1] =& \\frac{f(x_1)-f(x_0)}{x_1-x_0} = \\frac{1}{h}(f(x_1)-f(x_0))=\\frac{1}{h}\\nabla f(x_1)\\\\\n",
    "    f[x_0,x_1,x_2] =& \\frac{f[x_1,x_2]-f[x_0,x_1]}{x_2-x_0} = \\frac{1}{2h}\\frac{\\nabla f(x_2)-\\nabla f(x_1)}{h}=\\frac{1}{2h^2}\\nabla^2 f(x_2)\\\\\n",
    "    \\cdots\\\\\n",
    "    f[x_0,x_1,\\cdots,x_n] =& \\frac{1}{n!h^n}\\nabla^n f(x_n)\n",
    "\\end{align}\n",
    "\n",
    "Assume $x = x_n + sh$.\n",
    "\\begin{align}\n",
    "p(x) =& f[x_n]+f[x_n,x_{n-1}](x-x_n)+\\cdots f[x_n,x_{n-1},\\cdots,x_0](x-x_n)\\cdots(x-x_{1})\\\\\n",
    "=& f(x_n) + \\frac{1}{h}\\nabla f(x_n) sh + \\frac{1}{2h^2}\\nabla^2 f(x_n) sh (s+1)h+\\cdots + \\frac{1}{n!h^n}\\nabla^n f(x_n) sh(s+1)h\\cdots(s+(n-1))h\\\\\n",
    "=& f(x_n) + \\sum_{k=1}^n (-1)^k{-s\\choose k} \\nabla^k f(x_n).\n",
    "\\end{align}\n",
    "\n",
    "\n",
    "* When $x$ is near $x_n$, use the forward-difference formula."
   ]
  },
  {
   "cell_type": "markdown",
   "id": "10ba46fd",
   "metadata": {
    "slideshow": {
     "slide_type": "subslide"
    }
   },
   "source": [
    "## Stirling's central-difference formula\n",
    "\n",
    "1. Choose $x_0$ near the point $x$ being approximated\n",
    "2. Label the nodes directly below as $x_1, x_2,\\cdots$\n",
    "3. Label the nodes directly above as $x_{-1},x_{-2},\\cdots$\n",
    "\n",
    "The Newton's divided-difference formula for $x_0,x_1,x_{-1},x_{2},x_{-2},\\cdots$ is \n",
    "\\begin{align}\n",
    "    p(x) = f[x_0]+f[x_0,x_1](x-x_0)+f[x_0,x_1,x_{-1}](x-x_0)(x-x_1)+f[x_0,x_1,x_{-1},x_2](x-x_0)(x-x_1)(x-x_{-1})+f[x_0,x_1,x_{-1},x_2,x_{-2}](x-x_0)(x-x_1)(x-x_{-1})(x-x_2)+\\cdots\n",
    "\\end{align}\n",
    "\n",
    "The Newton's divided-difference formula for $x_0,x_{-1},x_1,x_{-2},x_{2},\\cdots$ is \n",
    "\\begin{align}\n",
    "    p(x) = f[x_0]+f[x_0,x_{-1}](x-x_0)+f[x_0,x_{-1},x_{1}](x-x_0)(x-x_{-1})+f[x_0,x_{-1},x_{1},x_{-2}](x-x_0)(x-x_{-1})(x-x_{1})+f[x_0,x_{-1},x_{1},x_{-2},x_2](x-x_0)(x-x_{-1})(x-x_{1})(x-x_{-2})+\\cdots\n",
    "\\end{align}\n",
    "\n",
    "The average of these two formulas gives Stirling's central-difference formula.\n",
    "\\begin{align}\n",
    "    p(x) = f[x_0]+\\frac{1}{2}(f[x_0,x_{-1}]+f[x_0,x_1])(x-x_0)+f[x_0,x_{-1},x_{1}](x-x_0)(x-\\frac{x_{-1}+x_1}{2})\\\\\n",
    "    +\\frac{1}{2}(f[x_0,x_1,x_{-1},x_2,x_{-2}]+f[x_0,x_{-1},x_{1},x_{-2}])(x-x_0)(x-x_{-1})(x-x_{1})\\\\\n",
    "    +f[x_0,x_{-1},x_{1},x_{-2},x_2](x-x_0)(x-x_{-1})(x-x_{1})(x-\\frac{x_{-2}+x_2}{2})+\\cdots\n",
    "\\end{align}\n",
    "\n"
   ]
  },
  {
   "cell_type": "markdown",
   "id": "003dcee8",
   "metadata": {
    "slideshow": {
     "slide_type": "slide"
    }
   },
   "source": [
    "## The effect of round-off error\n",
    "\n",
    "1. If the fifth differences have the the sign almost alternating, the roundoff noise is dominating.\n",
    "2. The we would not expect to go beyond fourth difference in any interpolation formula."
   ]
  },
  {
   "cell_type": "code",
   "execution_count": 26,
   "id": "6e51808f",
   "metadata": {
    "ExecuteTime": {
     "end_time": "2022-10-13T17:26:02.881000+08:00",
     "start_time": "2022-10-13T09:26:02.809Z"
    },
    "slideshow": {
     "slide_type": "subslide"
    }
   },
   "outputs": [
    {
     "data": {
      "text/plain": [
       "101×101 Matrix{Float64}:\n",
       " 1.0      0.0      0.0       0.0       …   0.0          0.0        0.0\n",
       " 1.01005  1.00502  0.0       0.0           0.0          0.0        0.0\n",
       " 1.0202   1.01512  0.505029  0.0           0.0          0.0        0.0\n",
       " 1.03045  1.02532  0.510105  0.169188      0.0          0.0        0.0\n",
       " 1.04081  1.03562  0.515232  0.170888      0.0          0.0        0.0\n",
       " 1.05127  1.04603  0.52041   0.172605  …   0.0          0.0        0.0\n",
       " 1.06184  1.05655  0.52564   0.17434       0.0          0.0        0.0\n",
       " 1.07251  1.06716  0.530923  0.176092      0.0          0.0        0.0\n",
       " 1.08329  1.07789  0.536259  0.177862      0.0          0.0        0.0\n",
       " 1.09417  1.08872  0.541648  0.17965       0.0          0.0        0.0\n",
       " 1.10517  1.09966  0.547092  0.181455  …   0.0          0.0        0.0\n",
       " 1.11628  1.11072  0.55259   0.183279      0.0          0.0        0.0\n",
       " 1.1275   1.12188  0.558144  0.185121      0.0          0.0        0.0\n",
       " ⋮                                     ⋱                           ⋮\n",
       " 2.43513  2.42299  1.20546   0.399818      0.0          0.0        0.0\n",
       " 2.4596   2.44735  1.21757   0.403836  …   0.0          0.0        0.0\n",
       " 2.48432  2.47194  1.22981   0.407894      0.0          0.0        0.0\n",
       " 2.50929  2.49679  1.24217   0.411994      0.0          0.0        0.0\n",
       " 2.53451  2.52188  1.25466   0.416134      0.0          0.0        0.0\n",
       " 2.55998  2.54722  1.26727   0.420317      0.0          0.0        0.0\n",
       " 2.58571  2.57282  1.28      0.424541  …   0.0          0.0        0.0\n",
       " 2.6117   2.59868  1.29287   0.428808      0.0          0.0        0.0\n",
       " 2.63794  2.6248   1.30586   0.433117      0.0          0.0        0.0\n",
       " 2.66446  2.65118  1.31898   0.43747       6.02242e53   0.0        0.0\n",
       " 2.69123  2.67782  1.33224   0.441867     -2.42825e54  -3.0611e54  0.0\n",
       " 2.71828  2.70474  1.34563   0.446308  …   3.95675e54   6.4495e54  9.5106e54"
      ]
     },
     "execution_count": 26,
     "metadata": {},
     "output_type": "execute_result"
    }
   ],
   "source": [
    "xn = collect(0.0:0.01:1.0)\n",
    "# yn = 1/(1.0.+xn.^2)\n",
    "yn = exp.(xn)\n",
    "nt = get_divided_difference(xn,yn)"
   ]
  },
  {
   "cell_type": "code",
   "execution_count": 27,
   "id": "23402376",
   "metadata": {
    "ExecuteTime": {
     "end_time": "2022-10-13T17:26:55.304000+08:00",
     "start_time": "2022-10-13T09:26:55.300Z"
    },
    "slideshow": {
     "slide_type": "subslide"
    }
   },
   "outputs": [
    {
     "data": {
      "text/plain": [
       "101×7 Matrix{Float64}:\n",
       " 0.0       0.0       0.0        0.0         …  0.0           0.0\n",
       " 0.0       0.0       0.0        0.0            0.0           0.0\n",
       " 0.505029  0.0       0.0        0.0            0.0           0.0\n",
       " 0.510105  0.169188  0.0        0.0            0.0           0.0\n",
       " 0.515232  0.170888  0.0425091  0.0            0.0           0.0\n",
       " 0.52041   0.172605  0.0429363  0.00854454  …  0.0           0.0\n",
       " 0.52564   0.17434   0.0433678  0.00863023     0.0           0.0\n",
       " 0.530923  0.176092  0.0438037  0.00871719     0.000304161   0.0\n",
       " 0.536259  0.177862  0.0442439  0.00880461     0.000108169  -0.0024499\n",
       " 0.541648  0.17965   0.0446886  0.00889321     0.00028116    0.0021624\n",
       " 0.547092  0.181455  0.0451377  0.00898256  …  0.000177501  -0.00129574\n",
       " 0.55259   0.183279  0.0455914  0.0090728      0.000213378   0.000448456\n",
       " 0.558144  0.185121  0.0460496  0.00916407     0.00024437    0.0003874\n",
       " ⋮                                          ⋱  ⋮            \n",
       " 1.20546   0.399818  0.0994563  0.0197921      0.000466999  -6.24628e-5\n",
       " 1.21757   0.403836  0.100456   0.0199912   …  0.000511055   0.000550705\n",
       " 1.22981   0.407894  0.101465   0.0201917      0.000361263  -0.0018724\n",
       " 1.24217   0.411994  0.102485   0.0203952      0.000696092   0.00418536\n",
       " 1.25466   0.416134  0.103515   0.0205994      0.000167415  -0.00660847\n",
       " 1.26727   0.420317  0.104556   0.0208072      0.000842741   0.00844157\n",
       " 1.28      0.424541  0.105606   0.0210159   …  0.000239201  -0.00754424\n",
       " 1.29287   0.428808  0.106668   0.0212272      0.000586974   0.00434715\n",
       " 1.30586   0.433117  0.10774    0.0214405      0.000504006  -0.0010371\n",
       " 1.31898   0.43747   0.108823   0.0216562      0.000569069   0.000813294\n",
       " 1.33224   0.441867  0.109916   0.0218736      0.00039803   -0.00213799\n",
       " 1.34563   0.446308  0.111021   0.0220934   …  0.000578345   0.00225394"
      ]
     },
     "execution_count": 27,
     "metadata": {},
     "output_type": "execute_result"
    }
   ],
   "source": [
    "nt[:,3:9]"
   ]
  }
 ],
 "metadata": {
  "celltoolbar": "Slideshow",
  "kernelspec": {
   "display_name": "Julia 1.5.3",
   "language": "julia",
   "name": "julia-1.5"
  },
  "language_info": {
   "file_extension": ".jl",
   "mimetype": "application/julia",
   "name": "julia",
   "version": "1.5.3"
  },
  "latex_envs": {
   "LaTeX_envs_menu_present": true,
   "autoclose": false,
   "autocomplete": true,
   "bibliofile": "biblio.bib",
   "cite_by": "apalike",
   "current_citInitial": 1,
   "eqLabelWithNumbers": true,
   "eqNumInitial": 1,
   "hotkeys": {
    "equation": "Ctrl-E",
    "itemize": "Ctrl-I"
   },
   "labels_anchors": false,
   "latex_user_defs": false,
   "report_style_numbering": false,
   "user_envs_cfg": false
  },
  "rise": {
   "enable_chalkboard": true,
   "scroll": true,
   "theme": "sky"
  },
  "toc": {
   "base_numbering": 1,
   "nav_menu": {},
   "number_sections": true,
   "sideBar": true,
   "skip_h1_title": false,
   "title_cell": "Table of Contents",
   "title_sidebar": "Contents",
   "toc_cell": false,
   "toc_position": {},
   "toc_section_display": true,
   "toc_window_display": false
  },
  "varInspector": {
   "cols": {
    "lenName": 16,
    "lenType": 16,
    "lenVar": 40
   },
   "kernels_config": {
    "python": {
     "delete_cmd_postfix": "",
     "delete_cmd_prefix": "del ",
     "library": "var_list.py",
     "varRefreshCmd": "print(var_dic_list())"
    },
    "r": {
     "delete_cmd_postfix": ") ",
     "delete_cmd_prefix": "rm(",
     "library": "var_list.r",
     "varRefreshCmd": "cat(var_dic_list()) "
    }
   },
   "types_to_exclude": [
    "module",
    "function",
    "builtin_function_or_method",
    "instance",
    "_Feature"
   ],
   "window_display": false
  }
 },
 "nbformat": 4,
 "nbformat_minor": 5
}
