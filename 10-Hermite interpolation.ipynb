{
 "cells": [
  {
   "cell_type": "markdown",
   "id": "1c0082d8",
   "metadata": {
    "slideshow": {
     "slide_type": "slide"
    }
   },
   "source": [
    "# <center>Numerical analysis</center>\n",
    "## <center>Newton's diveded-difference formula</center>\n",
    "\n",
    "### <center>Yong Yang</center>\n",
    "#### <center>yongyang@nuaa.edu.cn</center>"
   ]
  },
  {
   "cell_type": "markdown",
   "id": "623cc245",
   "metadata": {
    "ExecuteTime": {
     "end_time": "2021-08-28T20:29:15.806000+08:00",
     "start_time": "2021-08-28T12:29:15.340Z"
    },
    "slideshow": {
     "slide_type": "slide"
    }
   },
   "source": [
    "## Review\n",
    "\n",
    "* Lagrange error formula\n",
    "\\begin{align}\n",
    "f(x) = p(x) + \\frac{f^{(n+1)}(\\xi(x))}{(n+1)！} (x-x_0)\\cdots (x-x_n).\n",
    "\\end{align}\n",
    "* $|\\frac{f^{(n+1)}(\\xi(x))}{(n+1)！}(x-x_0)\\cdots (x-x_n)|\\leq \\frac{M_{n+1}}{(n+1)!}(b-a)^{n+1}$, $M_{n+1} := \\sup |f^{(n+1)}|$\n",
    "* For equally spaced sample points, \n",
    "    1. $|f-p_1|\\leq \\frac{M_2}{8}h^2$\n",
    "    2. $|f-p_2|\\leq \\frac{M_3}{16}h^3$\n",
    "* Piecewise linear interpolation\n",
    "    * Runge's example\n",
    "* Neville's method\n",
    "    \\begin{align}\n",
    "    p_{0,1,\\cdots,n}(x) =& \\frac{x-x_j}{x_i-x_j}p_{0,1,\\cdots,j-1,j+1,\\cdots,n}(x)+\\frac{x-x_i}{x_j-x_i}p_{0,1,\\cdots,i-1,i+1,\\cdots,n}(x)\\\\\n",
    "    =& \\frac{1}{x_i-x_j}[(x-x_j)p_{0,1,\\cdots,j-1,j+1,\\cdots,n}(x)-(x-x_i)p_{0,1,\\cdots,i-1,i+1,\\cdots,n}(x)]\n",
    "    \\end{align}"
   ]
  },
  {
   "cell_type": "markdown",
   "id": "0fe37d73",
   "metadata": {
    "slideshow": {
     "slide_type": "subslide"
    }
   },
   "source": [
    "<img src=\"images/newton-divided-difference.png\"  height=\"100\"/>"
   ]
  },
  {
   "cell_type": "markdown",
   "id": "8f524b98",
   "metadata": {
    "slideshow": {
     "slide_type": "subslide"
    }
   },
   "source": [
    "## Newton's divided-difference formula\n",
    "\n",
    "\\begin{align}\n",
    "    p(x) = f[x_0]+f[x_0,x_1](x-x_0)+\\cdots+f[x_0,x_1,\\cdots,x_n](x-x_0)\\cdots(x-x_{n-1})\n",
    "\\end{align}\n",
    "\n",
    "* Assume the nodes are arranged consecutively with equal spacing $h$. \n",
    "* Assume $x=x_0+sh$.\n",
    "\\begin{align}\n",
    "p(x) =& f[x_0]+a_1(x-x_0)+\\cdots a_n(x-x_0)\\cdots(x-x_{n-1})\\\\\n",
    "=& f[x_0] + f[x_0,x_1]sh + \\cdots f[x_0,\\cdots,x_n]sh(s-1)h\\cdots(s-(n-1))h\\\\\n",
    "=& f[x_0] + \\sum_{k=1}^n {s\\choose k} k!h^k f[x_0,\\cdots,x_{k}]\n",
    "\\end{align}\n"
   ]
  },
  {
   "cell_type": "markdown",
   "id": "078f69be",
   "metadata": {
    "slideshow": {
     "slide_type": "slide"
    }
   },
   "source": [
    "## Problem\n",
    "Find a polynomial of least degree with the property that it agrees with the function and its 1st derivative at nodes $x_k, k=0,1,\\cdots,n$\n",
    "\n",
    "That is to find a polynomial $p(x)$ such that $p(x_k)=f(x_k),p'(x_k)=f'(x_k)$, given $(x_k, f(x_k), f'(x_k))$.\n",
    "\n",
    "1. Does it exist?\n",
    "1. Is it unique?\n",
    "3. What is the error?\n",
    "4. Is there an easier way to compute it?"
   ]
  },
  {
   "cell_type": "markdown",
   "id": "16bd6f9b",
   "metadata": {
    "slideshow": {
     "slide_type": "subslide"
    }
   },
   "source": [
    "## Existence and uniqueness\n",
    "\n",
    "\\begin{theorem}\n",
    "If \n",
    "1. $f\\in C^1[a,b]$\n",
    "2. $x_k$ are distinct,\n",
    "then there exists a unique polynomial $H$ of degree at most $(2n+1)$ having the property  $H(x_k)=f(x_k),H'(x_k)=f'(x_k)$. And it is given as \n",
    "\\begin{align}\n",
    "    H(x) = \\sum_{k=0}^n[f(x_k)H_{n,k}(x)+f'(x_k)\\hat{H}_{n,k}(x)]\n",
    "\\end{align}\n",
    "where \n",
    "\\begin{align}\n",
    "    H_{m,k} = [1-2(x-x_k)L_{(n,k)}'(x_k)]L_{n,k}^2(x)\\\\\n",
    "    \\hat{H}_{m,k}=(x-x_k)L^2_{n,k}(x).\n",
    "\\end{align}\n",
    "\\end{theorem}\n",
    "* Proof: Show $\\{H_{m,k},\\hat{H}_{m,k}\\}$ is a basis for $\\mathbb{P}_{2n+1}$."
   ]
  },
  {
   "cell_type": "markdown",
   "id": "d8707845",
   "metadata": {
    "slideshow": {
     "slide_type": "subslide"
    }
   },
   "source": [
    "## Remark\n",
    "\n",
    "* Charles Hermite, French mathematician\n",
    "* It is called Hermite polynomial, and Hermite interpolation."
   ]
  },
  {
   "cell_type": "markdown",
   "id": "dc975d37",
   "metadata": {
    "slideshow": {
     "slide_type": "subslide"
    }
   },
   "source": [
    "## Error estimate\n",
    "\\begin{theorem}\n",
    "    If \n",
    "1. $f\\in C^{2n+2}[a,b]$\n",
    "2. $x_k$ are distinct,\n",
    "then \n",
    "\\begin{align}\n",
    "    f(x) = H_{2n+1}(x)+\\frac{f^{(2n+2)}(\\xi(x))}{(2n+2)!}(x-x_0)^2\\cdots(x-x_n)^2.\n",
    "\\end{align}\n",
    "\\end{theorem}\n",
    "\n",
    "* Proof: Use Roll's theorem."
   ]
  },
  {
   "cell_type": "markdown",
   "id": "762be634",
   "metadata": {
    "slideshow": {
     "slide_type": "subslide"
    }
   },
   "source": [
    "## Divided-difference formula\n",
    "\n",
    "<img src=\"images/hermite-polynomial-divided-differen.png\"  height=\"100\"/>\n",
    "\n",
    "\\begin{align}\n",
    "    H(x) = f(z_0)+f[z_0,z_1](x-z_0)+f[z_0,z_1,z_2](x-z_0)(z-z_1)+\\cdots\n",
    "\\end{align}\n",
    "* Exactly like Newton's divided difference formula\n",
    "* Likewise, there are forward formula, backward formula, and other osculating formula."
   ]
  },
  {
   "cell_type": "markdown",
   "id": "3e253a36",
   "metadata": {
    "slideshow": {
     "slide_type": "subslide"
    }
   },
   "source": [
    "## Example\n",
    "\n",
    "Use Hermite polynomial to find $f(1.5)$.\n",
    "\n",
    "| $x$ | $f(x)$    | $f'(x)$    |\n",
    "|-----|-----------|------------|\n",
    "| 1.3 | 0.6200860 | -0.5220232 |\n",
    "| 1.6 | 0.4554022 | -0.5698959 |\n",
    "| 1.9 | 0.2818186 | -0.5811571 |\n",
    "\n",
    "\n",
    "<img src=\"images/example-hermite.png\"  height=\"100\"/>\n"
   ]
  },
  {
   "cell_type": "code",
   "execution_count": 11,
   "id": "1705a1ea",
   "metadata": {
    "ExecuteTime": {
     "end_time": "2021-10-14T21:52:52.675000+08:00",
     "start_time": "2021-10-14T13:52:49.636Z"
    },
    "slideshow": {
     "slide_type": "subslide"
    }
   },
   "outputs": [
    {
     "data": {
      "text/plain": [
       "get_Hermite_divided_difference (generic function with 1 method)"
      ]
     },
     "execution_count": 11,
     "metadata": {},
     "output_type": "execute_result"
    }
   ],
   "source": [
    "function get_Hermite_divided_difference(xn,yn,dyn)\n",
    "    N = length(xn)\n",
    "    fd= zeros(Float64,(2*N,2*N+1)) ## Use float32 to see the effect of round-off error\n",
    "    for i in 1:N\n",
    "        fd[2*i-1,1] = xn[i]\n",
    "        fd[2*i,1]   = xn[i]\n",
    "        fd[2*i-1,2] = yn[i]\n",
    "        fd[2*i,2]   = yn[i]\n",
    "    end\n",
    "    for i in 1:N\n",
    "        fd[2*i,3] = dyn[i]\n",
    "        if i > 1\n",
    "            fd[2*i-1,3]   = (fd[2*i-1,2]-fd[2*i-2,2])/(fd[2*i-1,1]-fd[2*i-3,1])\n",
    "        end\n",
    "    end\n",
    "    for j in 4:(2*N+1)\n",
    "        for i in (j-1):2*N\n",
    "            fd[i,j] = (fd[i,j-1]-fd[i-1,j-1])/(fd[i,1]-fd[i-j+2,1])\n",
    "        end\n",
    "    end\n",
    "    return fd\n",
    "end"
   ]
  },
  {
   "cell_type": "code",
   "execution_count": 12,
   "id": "65e6c143",
   "metadata": {
    "ExecuteTime": {
     "end_time": "2021-10-14T21:52:52.726000+08:00",
     "start_time": "2021-10-14T13:52:49.640Z"
    },
    "slideshow": {
     "slide_type": "subslide"
    }
   },
   "outputs": [
    {
     "data": {
      "text/plain": [
       "6×7 Array{Float64,2}:\n",
       " 1.3  0.620086   0.0        0.0         0.0        0.0          0.0\n",
       " 1.3  0.620086  -0.522023   0.0         0.0        0.0          0.0\n",
       " 1.6  0.455402  -0.548946  -0.0897427   0.0        0.0          0.0\n",
       " 1.6  0.455402  -0.569896  -0.069833    0.0663656  0.0          0.0\n",
       " 1.9  0.281819  -0.578612  -0.0290537   0.0679656  0.00266667   0.0\n",
       " 1.9  0.281819  -0.581157  -0.00848367  0.0685667  0.00100185  -0.00277469"
      ]
     },
     "execution_count": 12,
     "metadata": {},
     "output_type": "execute_result"
    }
   ],
   "source": [
    "xn = [1.3,1.6,1.9]\n",
    "yn = [0.6200860,0.4554022,0.2818186]\n",
    "dyn= [-0.5220232,-0.5698959,-0.5811571]\n",
    "H_table = get_Hermite_divided_difference(xn,yn,dyn) ## Exactly same table"
   ]
  },
  {
   "cell_type": "code",
   "execution_count": 13,
   "id": "1c6827ff",
   "metadata": {
    "ExecuteTime": {
     "end_time": "2021-10-14T21:52:52.728000+08:00",
     "start_time": "2021-10-14T13:52:49.643Z"
    },
    "scrolled": true,
    "slideshow": {
     "slide_type": "subslide"
    }
   },
   "outputs": [
    {
     "data": {
      "text/plain": [
       "0.5118277017283951"
      ]
     },
     "execution_count": 13,
     "metadata": {},
     "output_type": "execute_result"
    }
   ],
   "source": [
    "get_Newton_divided_difference_at_x(H_table,1.5)"
   ]
  },
  {
   "cell_type": "markdown",
   "id": "f55547a6",
   "metadata": {
    "ExecuteTime": {
     "end_time": "2021-09-07T15:27:53.577000+08:00",
     "start_time": "2021-09-07T07:27:53.574Z"
    },
    "slideshow": {
     "slide_type": "subslide"
    }
   },
   "source": [
    "## Homework"
   ]
  }
 ],
 "metadata": {
  "@webio": {
   "lastCommId": null,
   "lastKernelId": null
  },
  "celltoolbar": "Slideshow",
  "kernelspec": {
   "display_name": "Julia 1.5.3",
   "language": "julia",
   "name": "julia-1.5"
  },
  "language_info": {
   "file_extension": ".jl",
   "mimetype": "application/julia",
   "name": "julia",
   "version": "1.5.3"
  },
  "latex_envs": {
   "LaTeX_envs_menu_present": true,
   "autoclose": false,
   "autocomplete": true,
   "bibliofile": "biblio.bib",
   "cite_by": "apalike",
   "current_citInitial": 1,
   "eqLabelWithNumbers": true,
   "eqNumInitial": 1,
   "hotkeys": {
    "equation": "Ctrl-E",
    "itemize": "Ctrl-I"
   },
   "labels_anchors": false,
   "latex_user_defs": false,
   "report_style_numbering": false,
   "user_envs_cfg": false
  },
  "rise": {
   "backimage": "images/temp2.png"
  },
  "toc": {
   "base_numbering": 1,
   "nav_menu": {},
   "number_sections": true,
   "sideBar": true,
   "skip_h1_title": false,
   "title_cell": "Table of Contents",
   "title_sidebar": "Contents",
   "toc_cell": false,
   "toc_position": {},
   "toc_section_display": true,
   "toc_window_display": false
  },
  "varInspector": {
   "cols": {
    "lenName": 16,
    "lenType": 16,
    "lenVar": 40
   },
   "kernels_config": {
    "python": {
     "delete_cmd_postfix": "",
     "delete_cmd_prefix": "del ",
     "library": "var_list.py",
     "varRefreshCmd": "print(var_dic_list())"
    },
    "r": {
     "delete_cmd_postfix": ") ",
     "delete_cmd_prefix": "rm(",
     "library": "var_list.r",
     "varRefreshCmd": "cat(var_dic_list()) "
    }
   },
   "types_to_exclude": [
    "module",
    "function",
    "builtin_function_or_method",
    "instance",
    "_Feature"
   ],
   "window_display": false
  }
 },
 "nbformat": 4,
 "nbformat_minor": 5
}
